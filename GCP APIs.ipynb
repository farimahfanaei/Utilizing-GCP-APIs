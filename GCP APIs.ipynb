{
 "cells": [
  {
   "cell_type": "markdown",
   "metadata": {},
   "source": [
    "<h1> Using Machine Learning APIs </h1>\n",
    "\n",
    "First, visit <a href=\"http://console.cloud.google.com/apis\">API console</a>, choose \"Credentials\" on the left-hand menu.  Choose \"Create Credentials\" and generate an API key for your application. You should probably restrict it by IP address to prevent abuse, but for now, just  leave that field blank and delete the API key after trying out this demo.\n",
    "\n",
    "Copy-paste your API Key here:"
   ]
  },
  {
   "cell_type": "code",
   "execution_count": 2,
   "metadata": {},
   "outputs": [
    {
     "name": "stderr",
     "output_type": "stream",
     "text": [
      "'sudo' is not recognized as an internal or external command,\n",
      "operable program or batch file.\n"
     ]
    }
   ],
   "source": [
    "# Use the chown command to change the ownership of repository to user\n",
    "!sudo chown -R jupyter:jupyter /home/jupyter/training-data-analyst"
   ]
  },
  {
   "cell_type": "code",
   "execution_count": 8,
   "metadata": {},
   "outputs": [],
   "source": [
    "APIKEY=\"KEY\"  # Replace API key"
   ]
  },
  {
   "cell_type": "markdown",
   "metadata": {},
   "source": [
    "<h2> Invoke Translate API </h2>"
   ]
  },
  {
   "cell_type": "code",
   "execution_count": null,
   "metadata": {},
   "outputs": [],
   "source": [
    "# Running the Translate API\n",
    "from googleapiclient.discovery import build\n",
    "service = build('translate', 'v2', developerKey=APIKEY)\n",
    "\n",
    "# Use the service\n",
    "inputs = ['is it really this easy?', 'amazing technology', 'wow']\n",
    "outputs = service.translations().list(source='en', target='fr', q=inputs).execute()\n",
    "\n",
    "# Print outputs\n",
    "for input, output in zip(inputs, outputs['translations']):\n",
    "  print(\"{0} -> {1}\".format(input, output['translatedText']))"
   ]
  },
  {
   "cell_type": "markdown",
   "metadata": {},
   "source": [
    "<h2> Invoke Vision API </h2>\n",
    "\n",
    "The Vision API can work off an image in Cloud Storage or embedded directly into a POST message. I'll use Cloud Storage and do OCR on this image: <img src=\"https://storage.googleapis.com/cloud-training-demos/vision/sign2.jpg\" width=\"200\" />.  That photograph is from http://www.publicdomainpictures.net/view-image.php?image=15842\n"
   ]
  },
  {
   "cell_type": "code",
   "execution_count": null,
   "metadata": {},
   "outputs": [],
   "source": [
    "# Running the Vision API\n",
    "import base64\n",
    "IMAGE=\"sign2.jpg\"\n",
    "vservice = build('vision', 'v1', developerKey=APIKEY)\n",
    "request = vservice.images().annotate(body={\n",
    "        'requests': [{\n",
    "                'image': {\n",
    "                    'source': {\n",
    "                        'gcs_image_uri': IMAGE\n",
    "                    }\n",
    "                },\n",
    "                'features': [{\n",
    "                    'type': 'TEXT_DETECTION',\n",
    "                    'maxResults': 3,\n",
    "                }]\n",
    "            }],\n",
    "        })\n",
    "responses = request.execute(num_retries=3)\n",
    "\n",
    "# Let's output the `responses`\n",
    "print(responses)"
   ]
  },
  {
   "cell_type": "markdown",
   "metadata": {},
   "source": [
    "{'responses': [{'textAnnotations': [{'description': '请您爱护和保\\n护卫生创建优\\n美水环境\\n', 'locale': 'zh', 'boundingPoly': {'vertices': [{'y': 104, 'x': 152}, {'y': 104, 'x': 1082}, {'y': 658, 'x': 1082}, {'y': 658, 'x': 152}]}}, {'description': '请', 'boundingPoly': {'vertices': [{'y': 104, 'x': 179}, {'y': 104, 'x': 321}, {'y': 243, 'x': 321}, {'y': 243, 'x': 179}]}}, {'description': '您', 'boundingPoly': {'vertices': [{'y': 108, 'x': 329}, {'y': 108, 'x': 471}, {'y': 243, 'x': 471}, {'y': 243, 'x': 329}]}}, {'description': '爱护', 'boundingPoly': {'vertices': [{'y': 108, 'x': 479}, {'y': 108, 'x': 775}, {'y': 243, 'x': 775}, {'y': 243, 'x': 479}]}}, {'description': '和', 'boundingPoly': {'vertices': [{'y': 111, 'x': 786}, {'y': 111, 'x': 925}, {'y': 243, 'x': 925}, {'y': 243, 'x': 786}]}}, {'description': '保', 'boundingPoly': {'vertices': [{'y': 104, 'x': 933}, {'y': 104, 'x': 1079}, {'y': 239, 'x': 1079}, {'y': 239, 'x': 933}]}}, {'description': '护', 'boundingPoly': {'vertices': [{'y': 300, 'x': 165}, {'y': 300, 'x': 312}, {'y': 440, 'x': 312}, {'y': 440, 'x': 165}]}}, {'description': '卫生', 'boundingPoly': {'vertices': [{'y': 304, 'x': 316}, {'y': 304, 'x': 619}, {'y': 440, 'x': 619}, {'y': 440, 'x': 316}]}}, {'description': '创建', 'boundingPoly': {'vertices': [{'y': 304, 'x': 631}, {'y': 304, 'x': 930}, {'y': 444, 'x': 930}, {'y': 444, 'x': 631}]}}, {'description': '优', 'boundingPoly': {'vertices': [{'y': 300, 'x': 938}, {'y': 300, 'x': 1082}, {'y': 440, 'x': 1082}, {'y': 440, 'x': 938}]}}, {'description': '美', 'boundingPoly': {'vertices': [{'y': 503, 'x': 158}, {'y': 509, 'x': 304}, {'y': 655, 'x': 297}, {'y': 649, 'x': 152}]}}, {'description': '水', 'boundingPoly': {'vertices': [{'y': 501, 'x': 313}, {'y': 508, 'x': 464}, {'y': 653, 'x': 457}, {'y': 647, 'x': 307}]}}, {'description': '环境', 'boundingPoly': {'vertices': [{'y': 499, 'x': 466}, {'y': 512, 'x': 772}, {'y': 658, 'x': 765}, {'y': 645, 'x': 460}]}}], 'fullTextAnnotation': {'text': '请您爱护和保\\n护卫生创建优\\n美水环境\\n', 'pages': [{'blocks': [{'boundingBox': {'vertices': [{'y': 104, 'x': 152}, {'y': 104, 'x': 1082}, {'y': 658, 'x': 1082}, {'y': 658, 'x': 152}]}, 'blockType': 'TEXT', 'property': {'detectedLanguages': [{'languageCode': 'zh-Hans'}]}, 'paragraphs': [{'boundingBox': {'vertices': [{'y': 104, 'x': 152}, {'y': 104, 'x': 1082}, {'y': 658, 'x': 1082}, {'y': 658, 'x': 152}]}, 'property': {'detectedLanguages': [{'languageCode': 'zh-Hans'}]}, 'words': [{'boundingBox': {'vertices': [{'y': 104, 'x': 179}, {'y': 104, 'x': 321}, {'y': 243, 'x': 321}, {'y': 243, 'x': 179}]}, 'symbols': [{'boundingBox': {'vertices': [{'y': 104, 'x': 179}, {'y': 104, 'x': 321}, {'y': 243, 'x': 321}, {'y': 243, 'x': 179}]}, 'text': '请', 'property': {'detectedLanguages': [{'languageCode': 'zh-Hans'}]}}], 'property': {'detectedLanguages': [{'languageCode': 'zh-Hans'}]}}, {'boundingBox': {'vertices': [{'y': 108, 'x': 329}, {'y': 108, 'x': 471}, {'y': 243, 'x': 471}, {'y': 243, 'x': 329}]}, 'symbols': [{'boundingBox': {'vertices': [{'y': 108, 'x': 329}, {'y': 108, 'x': 471}, {'y': 243, 'x': 471}, {'y': 243, 'x': 329}]}, 'text': '您', 'property': {'detectedLanguages': [{'languageCode': 'zh-Hans'}]}}], 'property': {'detectedLanguages': [{'languageCode': 'zh-Hans'}]}}, {'boundingBox': {'vertices': [{'y': 108, 'x': 479}, {'y': 108, 'x': 775}, {'y': 243, 'x': 775}, {'y': 243, 'x': 479}]}, 'symbols': [{'boundingBox': {'vertices': [{'y': 108, 'x': 479}, {'y': 108, 'x': 621}, {'y': 243, 'x': 621}, {'y': 243, 'x': 479}]}, 'text': '爱', 'property': {'detectedLanguages': [{'languageCode': 'zh-Hans'}]}}, {'boundingBox': {'vertices': [{'y': 108, 'x': 633}, {'y': 108, 'x': 775}, {'y': 243, 'x': 775}, {'y': 243, 'x': 633}]}, 'text': '护', 'property': {'detectedLanguages': [{'languageCode': 'zh-Hans'}]}}], 'property': {'detectedLanguages': [{'languageCode': 'zh-Hans'}]}}, {'boundingBox': {'vertices': [{'y': 111, 'x': 786}, {'y': 111, 'x': 925}, {'y': 243, 'x': 925}, {'y': 243, 'x': 786}]}, 'symbols': [{'boundingBox': {'vertices': [{'y': 111, 'x': 786}, {'y': 111, 'x': 925}, {'y': 243, 'x': 925}, {'y': 243, 'x': 786}]}, 'text': '和', 'property': {'detectedLanguages': [{'languageCode': 'zh-Hans'}]}}], 'property': {'detectedLanguages': [{'languageCode': 'zh-Hans'}]}}, {'boundingBox': {'vertices': [{'y': 104, 'x': 933}, {'y': 104, 'x': 1079}, {'y': 239, 'x': 1079}, {'y': 239, 'x': 933}]}, 'symbols': [{'boundingBox': {'vertices': [{'y': 104, 'x': 933}, {'y': 104, 'x': 1079}, {'y': 239, 'x': 1079}, {'y': 239, 'x': 933}]}, 'text': '保', 'property': {'detectedLanguages': [{'languageCode': 'zh-Hans'}], 'detectedBreak': {'type': 'EOL_SURE_SPACE'}}}], 'property': {'detectedLanguages': [{'languageCode': 'ja'}]}}, {'boundingBox': {'vertices': [{'y': 300, 'x': 165}, {'y': 300, 'x': 312}, {'y': 440, 'x': 312}, {'y': 440, 'x': 165}]}, 'symbols': [{'boundingBox': {'vertices': [{'y': 300, 'x': 165}, {'y': 300, 'x': 312}, {'y': 440, 'x': 312}, {'y': 440, 'x': 165}]}, 'text': '护', 'property': {'detectedLanguages': [{'languageCode': 'zh-Hans'}]}}], 'property': {'detectedLanguages': [{'languageCode': 'zh-Hans'}]}}, {'boundingBox': {'vertices': [{'y': 304, 'x': 316}, {'y': 304, 'x': 619}, {'y': 440, 'x': 619}, {'y': 440, 'x': 316}]}, 'symbols': [{'boundingBox': {'vertices': [{'y': 311, 'x': 316}, {'y': 311, 'x': 460}, {'y': 436, 'x': 460}, {'y': 436, 'x': 316}]}, 'text': '卫', 'property': {'detectedLanguages': [{'languageCode': 'zh-Hans'}]}}, {'boundingBox': {'vertices': [{'y': 304, 'x': 472}, {'y': 304, 'x': 619}, {'y': 440, 'x': 619}, {'y': 440, 'x': 472}]}, 'text': '生', 'property': {'detectedLanguages': [{'languageCode': 'zh-Hans'}]}}], 'property': {'detectedLanguages': [{'languageCode': 'zh-Hans'}]}}, {'boundingBox': {'vertices': [{'y': 304, 'x': 631}, {'y': 304, 'x': 930}, {'y': 444, 'x': 930}, {'y': 444, 'x': 631}]}, 'symbols': [{'boundingBox': {'vertices': [{'y': 304, 'x': 631}, {'y': 304, 'x': 771}, {'y': 444, 'x': 771}, {'y': 444, 'x': 631}]}, 'text': '创', 'property': {'detectedLanguages': [{'languageCode': 'zh-Hans'}]}}, {'boundingBox': {'vertices': [{'y': 308, 'x': 786}, {'y': 308, 'x': 930}, {'y': 444, 'x': 930}, {'y': 444, 'x': 786}]}, 'text': '建', 'property': {'detectedLanguages': [{'languageCode': 'zh-Hans'}]}}], 'property': {'detectedLanguages': [{'languageCode': 'zh-Hans'}]}}, {'boundingBox': {'vertices': [{'y': 300, 'x': 938}, {'y': 300, 'x': 1082}, {'y': 440, 'x': 1082}, {'y': 440, 'x': 938}]}, 'symbols': [{'boundingBox': {'vertices': [{'y': 300, 'x': 938}, {'y': 300, 'x': 1082}, {'y': 440, 'x': 1082}, {'y': 440, 'x': 938}]}, 'text': '优', 'property': {'detectedLanguages': [{'languageCode': 'zh-Hans'}], 'detectedBreak': {'type': 'EOL_SURE_SPACE'}}}], 'property': {'detectedLanguages': [{'languageCode': 'zh-Hans'}]}}, {'boundingBox': {'vertices': [{'y': 503, 'x': 158}, {'y': 509, 'x': 304}, {'y': 655, 'x': 297}, {'y': 649, 'x': 152}]}, 'symbols': [{'boundingBox': {'vertices': [{'y': 503, 'x': 158}, {'y': 509, 'x': 304}, {'y': 655, 'x': 297}, {'y': 649, 'x': 152}]}, 'text': '美', 'property': {'detectedLanguages': [{'languageCode': 'zh-Hans'}]}}], 'property': {'detectedLanguages': [{'languageCode': 'zh-Hans'}]}}, {'boundingBox': {'vertices': [{'y': 501, 'x': 313}, {'y': 508, 'x': 464}, {'y': 653, 'x': 457}, {'y': 647, 'x': 307}]}, 'symbols': [{'boundingBox': {'vertices': [{'y': 501, 'x': 313}, {'y': 508, 'x': 464}, {'y': 653, 'x': 457}, {'y': 647, 'x': 307}]}, 'text': '水', 'property': {'detectedLanguages': [{'languageCode': 'zh-Hans'}]}}], 'property': {'detectedLanguages': [{'languageCode': 'ja'}]}}, {'boundingBox': {'vertices': [{'y': 499, 'x': 466}, {'y': 512, 'x': 772}, {'y': 658, 'x': 765}, {'y': 645, 'x': 460}]}, 'symbols': [{'boundingBox': {'vertices': [{'y': 503, 'x': 465}, {'y': 510, 'x': 623}, {'y': 652, 'x': 617}, {'y': 645, 'x': 459}]}, 'text': '环', 'property': {'detectedLanguages': [{'languageCode': 'zh-Hans'}]}}, {'boundingBox': {'vertices': [{'y': 506, 'x': 620}, {'y': 513, 'x': 771}, {'y': 658, 'x': 764}, {'y': 652, 'x': 614}]}, 'text': '境', 'property': {'detectedLanguages': [{'languageCode': 'zh-Hans'}], 'detectedBreak': {'type': 'EOL_SURE_SPACE'}}}], 'property': {'detectedLanguages': [{'languageCode': 'zh-Hans'}]}}]}]}], 'property': {'detectedLanguages': [{'languageCode': 'zh-Hans'}]}, 'width': 1280, 'height': 818}]}}]}"
   ]
  },
  {
   "cell_type": "code",
   "execution_count": null,
   "metadata": {},
   "outputs": [],
   "source": [
    "foreigntext = responses['responses'][0]['textAnnotations'][0]['description']\n",
    "foreignlang = responses['responses'][0]['textAnnotations'][0]['locale']\n",
    "\n",
    "# Let's output the `foreignlang` and `foreigntext`\n",
    "print(foreignlang, foreigntext)"
   ]
  },
  {
   "cell_type": "markdown",
   "metadata": {},
   "source": [
    "zh 请您爱护和保\n",
    "护卫生创建优\n",
    "美水环境"
   ]
  },
  {
   "cell_type": "markdown",
   "metadata": {},
   "source": [
    "Tanslate Sign"
   ]
  },
  {
   "cell_type": "code",
   "execution_count": null,
   "metadata": {},
   "outputs": [],
   "source": [
    "inputs=[foreigntext]\n",
    "outputs = service.translations().list(source=foreignlang, target='en', q=inputs).execute()\n",
    "\n",
    "# Print the outputs\n",
    "for input, output in zip(inputs, outputs['translations']):\n",
    "  print(\"{0} -> {1}\".format(input, output['translatedText']))"
   ]
  },
  {
   "cell_type": "markdown",
   "metadata": {},
   "source": [
    "<h2> Sentiment analysis with Language API </h2>\n",
    "\n",
    "Let's evaluate the sentiment of some famous quotes using Google Cloud Natural Language API."
   ]
  },
  {
   "cell_type": "code",
   "execution_count": null,
   "metadata": {},
   "outputs": [],
   "source": [
    "# Evaluating the sentiment with Google Cloud Natural Language API\n",
    "lservice = build('language', 'v1beta1', developerKey=APIKEY)\n",
    "quotes = [\n",
    "  'To succeed, you must have tremendous perseverance, tremendous will.',\n",
    "  'It’s not that I’m so smart, it’s just that I stay with problems longer.',\n",
    "  'Love is quivering happiness.',\n",
    "  'Love is of all passions the strongest, for it attacks simultaneously the head, the heart, and the senses.',\n",
    "  'What difference does it make to the dead, the orphans and the homeless, whether the mad destruction is wrought under the name of totalitarianism or in the holy name of liberty or democracy?',\n",
    "  'When someone you love dies, and you’re not expecting it, you don’t lose her all at once; you lose her in pieces over a long time — the way the mail stops coming, and her scent fades from the pillows and even from the clothes in her closet and drawers. '\n",
    "]\n",
    "for quote in quotes:\n",
    "# The `documents.analyzeSentiment` method analyzes the sentiment of the provided text.\n",
    "  response = lservice.documents().analyzeSentiment(\n",
    "    body={\n",
    "      'document': {\n",
    "         'type': 'PLAIN_TEXT',\n",
    "         'content': quote\n",
    "      }\n",
    "    }).execute()\n",
    "  polarity = response['documentSentiment']['polarity']\n",
    "  magnitude = response['documentSentiment']['magnitude']\n",
    "\n",
    "# Lets output the value of each `polarity`, `magnitude` and `quote`\n",
    "  print('POLARITY=%s MAGNITUDE=%s for %s' % (polarity, magnitude, quote))"
   ]
  },
  {
   "cell_type": "markdown",
   "metadata": {},
   "source": [
    "POLARITY=1 MAGNITUDE=0.9 for To succeed, you must have tremendous perseverance, tremendous will.\n",
    "\n",
    "POLARITY=-1 MAGNITUDE=0.5 for It’s not that I’m so smart, it’s just that I stay with problems longer.\n",
    "\n",
    "POLARITY=1 MAGNITUDE=0.9 for Love is quivering happiness.\n",
    "\n",
    "POLARITY=1 MAGNITUDE=0.9 for Love is of all passions the strongest, for it attacks simultaneously the head, the heart, and the senses.\n",
    "\n",
    "POLARITY=1 MAGNITUDE=0.2 for What difference does it make to the dead, the orphans and the homeless, whether the mad destruction is wrought under the name of totalitarianism or in the holy name of liberty or democracy?\n",
    "\n",
    "POLARITY=-1 MAGNITUDE=0.4 for When someone you love dies, and you’re not expecting it, you don’t lose her all at once; you lose her in pieces over a long time — the way the mail stops coming, and her scent fades from the pillows and even from the clothes in her closet and drawers. \n"
   ]
  },
  {
   "cell_type": "markdown",
   "metadata": {},
   "source": [
    "<h2> Speech API </h2>\n",
    "\n",
    "The Speech API can work on streaming data, audio content encoded and embedded directly into the POST message, or on a file on Cloud Storage. Here I'll pass in this <a href=\"https://storage.googleapis.com/cloud-training-demos/vision/audio.raw\">audio file</a> in Cloud Storage."
   ]
  },
  {
   "cell_type": "code",
   "execution_count": null,
   "metadata": {},
   "outputs": [],
   "source": [
    "# Using the Speech API by passing audio file as an argument\n",
    "sservice = build('speech', 'v1', developerKey=APIKEY)\n",
    "# The `speech.recognize` method performs synchronous speech recognition.\n",
    "# It receive results after all audio has been sent and processed.\n",
    "response = sservice.speech().recognize(\n",
    "    body={\n",
    "        'config': {\n",
    "            'languageCode' : 'en-US',\n",
    "            'encoding': 'LINEAR16',\n",
    "            'sampleRateHertz': 16000\n",
    "        },\n",
    "        'audio': {\n",
    "            'uri': 'gs://cloud-training-demos/vision/audio.raw'\n",
    "            }\n",
    "        }).execute()\n",
    "\n",
    "# Let's output the value of `response`\n",
    "print(response)"
   ]
  },
  {
   "cell_type": "markdown",
   "metadata": {},
   "source": [
    "{'results': [{'alternatives': [{'transcript': 'how old is the Brooklyn Bridge', 'confidence': 0.9823954}]}]"
   ]
  },
  {
   "cell_type": "code",
   "execution_count": null,
   "metadata": {},
   "outputs": [],
   "source": [
    "print(response['results'][0]['alternatives'][0]['transcript'])\n",
    "\n",
    "# Let's output the value of `'Confidence`\n",
    "print('Confidence=%f' % response['results'][0]['alternatives'][0]['confidence'])"
   ]
  },
  {
   "cell_type": "markdown",
   "metadata": {},
   "source": [
    "how old is the Brooklyn Bridge\n",
    "Confidence=0.982395"
   ]
  },
  {
   "cell_type": "code",
   "execution_count": null,
   "metadata": {},
   "outputs": [],
   "source": [
    "imgs=[\"80.jpg\", \"18.jpg\", \"02.jpg\", \"02.jpg\"]\n",
    "vservice = build('vision', 'v1', developerKey=APIKEY)\n",
    "for img in imgs:\n",
    "    request = vservice.images().annotate(body={\n",
    "            'requests': [{\n",
    "                    'image': {\n",
    "                        'source': {\n",
    "                            'gcs_image_uri': img\n",
    "                        }\n",
    "                    },\n",
    "                    'features': [{\n",
    "                        'type': 'FACE_DETECTION',\n",
    "                        'maxResults': 3,\n",
    "                    }]\n",
    "                }],\n",
    "            })\n",
    "    responses = request.execute(num_retries=3)\n",
    "    print(img)\n",
    "    if \"faceAnnotations\" in responses['responses'][0]:\n",
    "        print(\"happy: \" + responses['responses'][0]['faceAnnotations'][0]['joyLikelihood'])\n",
    "        print(\"unhappy: \" + responses['responses'][0]['faceAnnotations'][0]['sorrowLikelihood'])\n",
    "    else:\n",
    "        print (\"no face detected\")"
   ]
  },
  {
   "cell_type": "markdown",
   "metadata": {},
   "source": [
    "80.jpg\n",
    "\n",
    "happy: VERY_UNLIKELY\n",
    "\n",
    "unhappy: VERY_UNLIKELY\n",
    "\n",
    "18.jpg\n",
    "\n",
    "No face detected!\n",
    "\n",
    "02.jpg\n",
    "\n",
    "happy: VERY_UNLIKELY\n",
    "\n",
    "unhappy: VERY_UNLIKELY\n",
    "\n",
    "02.jpg\n",
    "\n",
    "No face detected!"
   ]
  },
  {
   "cell_type": "code",
   "execution_count": null,
   "metadata": {},
   "outputs": [],
   "source": []
  }
 ],
 "metadata": {
  "kernelspec": {
   "display_name": "Python 3",
   "language": "python",
   "name": "python3"
  },
  "language_info": {
   "codemirror_mode": {
    "name": "ipython",
    "version": 3
   },
   "file_extension": ".py",
   "mimetype": "text/x-python",
   "name": "python",
   "nbconvert_exporter": "python",
   "pygments_lexer": "ipython3",
   "version": "3.7.4"
  }
 },
 "nbformat": 4,
 "nbformat_minor": 2
}
